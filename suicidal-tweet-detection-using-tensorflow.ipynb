{
 "cells": [
  {
   "cell_type": "code",
   "execution_count": 1,
   "id": "73d0be21",
   "metadata": {
    "_cell_guid": "b1076dfc-b9ad-4769-8c92-a6c4dae69d19",
    "_uuid": "8f2839f25d086af736a60e9eeb907d3b93b6e0e5",
    "execution": {
     "iopub.execute_input": "2023-10-11T13:17:50.079245Z",
     "iopub.status.busy": "2023-10-11T13:17:50.078470Z",
     "iopub.status.idle": "2023-10-11T13:18:00.940821Z",
     "shell.execute_reply": "2023-10-11T13:18:00.939611Z"
    },
    "papermill": {
     "duration": 10.870823,
     "end_time": "2023-10-11T13:18:00.943069",
     "exception": false,
     "start_time": "2023-10-11T13:17:50.072246",
     "status": "completed"
    },
    "tags": []
   },
   "outputs": [
    {
     "name": "stderr",
     "output_type": "stream",
     "text": [
      "/opt/conda/lib/python3.10/site-packages/scipy/__init__.py:146: UserWarning: A NumPy version >=1.16.5 and <1.23.0 is required for this version of SciPy (detected version 1.23.5\n",
      "  warnings.warn(f\"A NumPy version >={np_minversion} and <{np_maxversion}\"\n",
      "/opt/conda/lib/python3.10/site-packages/tensorflow_io/python/ops/__init__.py:98: UserWarning: unable to load libtensorflow_io_plugins.so: unable to open file: libtensorflow_io_plugins.so, from paths: ['/opt/conda/lib/python3.10/site-packages/tensorflow_io/python/ops/libtensorflow_io_plugins.so']\n",
      "caused by: ['/opt/conda/lib/python3.10/site-packages/tensorflow_io/python/ops/libtensorflow_io_plugins.so: undefined symbol: _ZN3tsl6StatusC1EN10tensorflow5error4CodeESt17basic_string_viewIcSt11char_traitsIcEENS_14SourceLocationE']\n",
      "  warnings.warn(f\"unable to load libtensorflow_io_plugins.so: {e}\")\n",
      "/opt/conda/lib/python3.10/site-packages/tensorflow_io/python/ops/__init__.py:104: UserWarning: file system plugins are not loaded: unable to open file: libtensorflow_io.so, from paths: ['/opt/conda/lib/python3.10/site-packages/tensorflow_io/python/ops/libtensorflow_io.so']\n",
      "caused by: ['/opt/conda/lib/python3.10/site-packages/tensorflow_io/python/ops/libtensorflow_io.so: undefined symbol: _ZTVN10tensorflow13GcsFileSystemE']\n",
      "  warnings.warn(f\"file system plugins are not loaded: {e}\")\n"
     ]
    },
    {
     "name": "stdout",
     "output_type": "stream",
     "text": [
      "/kaggle/input/suicidal-tweet-detection-dataset/Suicide_Ideation_Dataset(Twitter-based).csv\n"
     ]
    }
   ],
   "source": [
    "# This Python 3 environment comes with many helpful analytics libraries installed\n",
    "# It is defined by the kaggle/python Docker image: https://github.com/kaggle/docker-python\n",
    "# For example, here's several helpful packages to load\n",
    "\n",
    "import numpy as np # linear algebra\n",
    "import pandas as pd # data processing, CSV file I/O (e.g. pd.read_csv)\n",
    "import tensorflow as tf\n",
    "# Input data files are available in the read-only \"../input/\" directory\n",
    "# For example, running this (by clicking run or pressing Shift+Enter) will list all files under the input directory\n",
    "\n",
    "import os\n",
    "for dirname, _, filenames in os.walk('/kaggle/input'):\n",
    "    for filename in filenames:\n",
    "        print(os.path.join(dirname, filename))\n",
    "\n",
    "# You can write up to 20GB to the current directory (/kaggle/working/) that gets preserved as output when you create a version using \"Save & Run All\" \n",
    "# You can also write temporary files to /kaggle/temp/, but they won't be saved outside of the current session"
   ]
  },
  {
   "cell_type": "markdown",
   "id": "8383be7c",
   "metadata": {
    "papermill": {
     "duration": 0.003423,
     "end_time": "2023-10-11T13:18:00.950670",
     "exception": false,
     "start_time": "2023-10-11T13:18:00.947247",
     "status": "completed"
    },
    "tags": []
   },
   "source": [
    "Loading Data"
   ]
  },
  {
   "cell_type": "code",
   "execution_count": 2,
   "id": "68652011",
   "metadata": {
    "execution": {
     "iopub.execute_input": "2023-10-11T13:18:00.960691Z",
     "iopub.status.busy": "2023-10-11T13:18:00.959445Z",
     "iopub.status.idle": "2023-10-11T13:18:00.989758Z",
     "shell.execute_reply": "2023-10-11T13:18:00.988523Z"
    },
    "papermill": {
     "duration": 0.038043,
     "end_time": "2023-10-11T13:18:00.992406",
     "exception": false,
     "start_time": "2023-10-11T13:18:00.954363",
     "status": "completed"
    },
    "tags": []
   },
   "outputs": [],
   "source": [
    "df = pd.read_csv('/kaggle/input/suicidal-tweet-detection-dataset/Suicide_Ideation_Dataset(Twitter-based).csv')\n"
   ]
  },
  {
   "cell_type": "markdown",
   "id": "1700aef1",
   "metadata": {
    "papermill": {
     "duration": 0.003817,
     "end_time": "2023-10-11T13:18:01.000250",
     "exception": false,
     "start_time": "2023-10-11T13:18:00.996433",
     "status": "completed"
    },
    "tags": []
   },
   "source": [
    "Data Cleaning ig?"
   ]
  },
  {
   "cell_type": "code",
   "execution_count": 3,
   "id": "e2376477",
   "metadata": {
    "execution": {
     "iopub.execute_input": "2023-10-11T13:18:01.012937Z",
     "iopub.status.busy": "2023-10-11T13:18:01.012413Z",
     "iopub.status.idle": "2023-10-11T13:18:01.032677Z",
     "shell.execute_reply": "2023-10-11T13:18:01.031487Z"
    },
    "papermill": {
     "duration": 0.031274,
     "end_time": "2023-10-11T13:18:01.035724",
     "exception": false,
     "start_time": "2023-10-11T13:18:01.004450",
     "status": "completed"
    },
    "tags": []
   },
   "outputs": [
    {
     "data": {
      "text/plain": [
       "Tweet      2\n",
       "Suicide    0\n",
       "dtype: int64"
      ]
     },
     "execution_count": 3,
     "metadata": {},
     "output_type": "execute_result"
    }
   ],
   "source": [
    "df.isnull().sum()"
   ]
  },
  {
   "cell_type": "markdown",
   "id": "a6ae0ba5",
   "metadata": {
    "papermill": {
     "duration": 0.006209,
     "end_time": "2023-10-11T13:18:01.048560",
     "exception": false,
     "start_time": "2023-10-11T13:18:01.042351",
     "status": "completed"
    },
    "tags": []
   },
   "source": [
    "As number of rows with empty column values is quite less, we can simply remove them"
   ]
  },
  {
   "cell_type": "code",
   "execution_count": 4,
   "id": "7952850f",
   "metadata": {
    "execution": {
     "iopub.execute_input": "2023-10-11T13:18:01.059208Z",
     "iopub.status.busy": "2023-10-11T13:18:01.057967Z",
     "iopub.status.idle": "2023-10-11T13:18:01.068044Z",
     "shell.execute_reply": "2023-10-11T13:18:01.066870Z"
    },
    "papermill": {
     "duration": 0.017963,
     "end_time": "2023-10-11T13:18:01.070506",
     "exception": false,
     "start_time": "2023-10-11T13:18:01.052543",
     "status": "completed"
    },
    "tags": []
   },
   "outputs": [],
   "source": [
    "df = df.dropna()"
   ]
  },
  {
   "cell_type": "code",
   "execution_count": 5,
   "id": "165c50d4",
   "metadata": {
    "execution": {
     "iopub.execute_input": "2023-10-11T13:18:01.081723Z",
     "iopub.status.busy": "2023-10-11T13:18:01.080169Z",
     "iopub.status.idle": "2023-10-11T13:18:01.092162Z",
     "shell.execute_reply": "2023-10-11T13:18:01.091042Z"
    },
    "papermill": {
     "duration": 0.020273,
     "end_time": "2023-10-11T13:18:01.094926",
     "exception": false,
     "start_time": "2023-10-11T13:18:01.074653",
     "status": "completed"
    },
    "tags": []
   },
   "outputs": [
    {
     "data": {
      "text/plain": [
       "Tweet      0\n",
       "Suicide    0\n",
       "dtype: int64"
      ]
     },
     "execution_count": 5,
     "metadata": {},
     "output_type": "execute_result"
    }
   ],
   "source": [
    "df.isnull().sum()"
   ]
  },
  {
   "cell_type": "code",
   "execution_count": 6,
   "id": "6cfe1c26",
   "metadata": {
    "execution": {
     "iopub.execute_input": "2023-10-11T13:18:01.105926Z",
     "iopub.status.busy": "2023-10-11T13:18:01.104969Z",
     "iopub.status.idle": "2023-10-11T13:18:01.119450Z",
     "shell.execute_reply": "2023-10-11T13:18:01.118313Z"
    },
    "papermill": {
     "duration": 0.023032,
     "end_time": "2023-10-11T13:18:01.122118",
     "exception": false,
     "start_time": "2023-10-11T13:18:01.099086",
     "status": "completed"
    },
    "tags": []
   },
   "outputs": [
    {
     "data": {
      "text/plain": [
       "Not Suicide post           1126\n",
       "Potential Suicide post      659\n",
       "Name: Suicide, dtype: int64"
      ]
     },
     "execution_count": 6,
     "metadata": {},
     "output_type": "execute_result"
    }
   ],
   "source": [
    "df['Suicide'].value_counts()"
   ]
  },
  {
   "cell_type": "markdown",
   "id": "06b015b7",
   "metadata": {
    "papermill": {
     "duration": 0.003805,
     "end_time": "2023-10-11T13:18:01.130199",
     "exception": false,
     "start_time": "2023-10-11T13:18:01.126394",
     "status": "completed"
    },
    "tags": []
   },
   "source": [
    "Dealing with categorical values (here, Not Suicide & Potential Suicide)"
   ]
  },
  {
   "cell_type": "code",
   "execution_count": 7,
   "id": "bb86dc20",
   "metadata": {
    "execution": {
     "iopub.execute_input": "2023-10-11T13:18:01.142398Z",
     "iopub.status.busy": "2023-10-11T13:18:01.141559Z",
     "iopub.status.idle": "2023-10-11T13:18:02.093160Z",
     "shell.execute_reply": "2023-10-11T13:18:02.091869Z"
    },
    "papermill": {
     "duration": 0.961504,
     "end_time": "2023-10-11T13:18:02.095813",
     "exception": false,
     "start_time": "2023-10-11T13:18:01.134309",
     "status": "completed"
    },
    "tags": []
   },
   "outputs": [
    {
     "data": {
      "text/html": [
       "<div>\n",
       "<style scoped>\n",
       "    .dataframe tbody tr th:only-of-type {\n",
       "        vertical-align: middle;\n",
       "    }\n",
       "\n",
       "    .dataframe tbody tr th {\n",
       "        vertical-align: top;\n",
       "    }\n",
       "\n",
       "    .dataframe thead th {\n",
       "        text-align: right;\n",
       "    }\n",
       "</style>\n",
       "<table border=\"1\" class=\"dataframe\">\n",
       "  <thead>\n",
       "    <tr style=\"text-align: right;\">\n",
       "      <th></th>\n",
       "      <th>Tweet</th>\n",
       "      <th>Suicide</th>\n",
       "    </tr>\n",
       "  </thead>\n",
       "  <tbody>\n",
       "    <tr>\n",
       "      <th>0</th>\n",
       "      <td>making some lunch</td>\n",
       "      <td>0</td>\n",
       "    </tr>\n",
       "    <tr>\n",
       "      <th>1</th>\n",
       "      <td>@Alexia You want his money.</td>\n",
       "      <td>0</td>\n",
       "    </tr>\n",
       "    <tr>\n",
       "      <th>2</th>\n",
       "      <td>@dizzyhrvy that crap took me forever to put to...</td>\n",
       "      <td>1</td>\n",
       "    </tr>\n",
       "    <tr>\n",
       "      <th>3</th>\n",
       "      <td>@jnaylor #kiwitweets Hey Jer! Since when did y...</td>\n",
       "      <td>0</td>\n",
       "    </tr>\n",
       "    <tr>\n",
       "      <th>4</th>\n",
       "      <td>Trying out &amp;quot;Delicious Library 2&amp;quot; wit...</td>\n",
       "      <td>0</td>\n",
       "    </tr>\n",
       "  </tbody>\n",
       "</table>\n",
       "</div>"
      ],
      "text/plain": [
       "                                               Tweet  Suicide\n",
       "0                                  making some lunch        0\n",
       "1                        @Alexia You want his money.        0\n",
       "2  @dizzyhrvy that crap took me forever to put to...        1\n",
       "3  @jnaylor #kiwitweets Hey Jer! Since when did y...        0\n",
       "4  Trying out &quot;Delicious Library 2&quot; wit...        0"
      ]
     },
     "execution_count": 7,
     "metadata": {},
     "output_type": "execute_result"
    }
   ],
   "source": [
    "from sklearn.preprocessing import LabelEncoder\n",
    "\n",
    "lab_e = LabelEncoder()\n",
    "\n",
    "df['Suicide'] = lab_e.fit_transform(df['Suicide'])\n",
    "df.head()"
   ]
  },
  {
   "cell_type": "code",
   "execution_count": 8,
   "id": "0c53cac1",
   "metadata": {
    "execution": {
     "iopub.execute_input": "2023-10-11T13:18:02.106408Z",
     "iopub.status.busy": "2023-10-11T13:18:02.105457Z",
     "iopub.status.idle": "2023-10-11T13:18:02.239089Z",
     "shell.execute_reply": "2023-10-11T13:18:02.238064Z"
    },
    "papermill": {
     "duration": 0.141462,
     "end_time": "2023-10-11T13:18:02.241452",
     "exception": false,
     "start_time": "2023-10-11T13:18:02.099990",
     "status": "completed"
    },
    "tags": []
   },
   "outputs": [],
   "source": [
    "from sklearn.feature_extraction.text import TfidfVectorizer\n",
    "\n",
    "vector = TfidfVectorizer(max_features = 2000)\n",
    "X = vector.fit_transform(df['Tweet'])\n",
    "Y = df.Suicide\n",
    "X = X.toarray()"
   ]
  },
  {
   "cell_type": "markdown",
   "id": "b974271a",
   "metadata": {
    "papermill": {
     "duration": 0.00408,
     "end_time": "2023-10-11T13:18:02.249789",
     "exception": false,
     "start_time": "2023-10-11T13:18:02.245709",
     "status": "completed"
    },
    "tags": []
   },
   "source": [
    "Data Split"
   ]
  },
  {
   "cell_type": "code",
   "execution_count": 9,
   "id": "a7e332aa",
   "metadata": {
    "execution": {
     "iopub.execute_input": "2023-10-11T13:18:02.260820Z",
     "iopub.status.busy": "2023-10-11T13:18:02.259699Z",
     "iopub.status.idle": "2023-10-11T13:18:02.418897Z",
     "shell.execute_reply": "2023-10-11T13:18:02.417565Z"
    },
    "papermill": {
     "duration": 0.167323,
     "end_time": "2023-10-11T13:18:02.421498",
     "exception": false,
     "start_time": "2023-10-11T13:18:02.254175",
     "status": "completed"
    },
    "tags": []
   },
   "outputs": [],
   "source": [
    "from sklearn.model_selection import train_test_split\n",
    "\n",
    "X_train, X_test, Y_train, Y_test = train_test_split(X,Y,random_state = 26)"
   ]
  },
  {
   "cell_type": "code",
   "execution_count": 10,
   "id": "b0b34946",
   "metadata": {
    "execution": {
     "iopub.execute_input": "2023-10-11T13:18:02.432064Z",
     "iopub.status.busy": "2023-10-11T13:18:02.431683Z",
     "iopub.status.idle": "2023-10-11T13:18:05.653894Z",
     "shell.execute_reply": "2023-10-11T13:18:05.652198Z"
    },
    "papermill": {
     "duration": 3.230265,
     "end_time": "2023-10-11T13:18:05.656207",
     "exception": false,
     "start_time": "2023-10-11T13:18:02.425942",
     "status": "completed"
    },
    "tags": []
   },
   "outputs": [
    {
     "name": "stdout",
     "output_type": "stream",
     "text": [
      "Epoch 1/5\n",
      "42/42 [==============================] - 1s 5ms/step - loss: 0.6310 - accuracy: 0.6450\n",
      "Epoch 2/5\n",
      "42/42 [==============================] - 0s 5ms/step - loss: 0.3040 - accuracy: 0.9245\n",
      "Epoch 3/5\n",
      "42/42 [==============================] - 0s 5ms/step - loss: 0.1027 - accuracy: 0.9753\n",
      "Epoch 4/5\n",
      "42/42 [==============================] - 0s 6ms/step - loss: 0.0496 - accuracy: 0.9910\n",
      "Epoch 5/5\n",
      "42/42 [==============================] - 0s 5ms/step - loss: 0.0287 - accuracy: 0.9955\n",
      "14/14 [==============================] - 0s 2ms/step\n",
      "Score: 0.94\n"
     ]
    }
   ],
   "source": [
    "from sklearn.metrics import accuracy_score\n",
    "\n",
    "model = tf.keras.models.Sequential([\n",
    "    tf.keras.layers.Dense(128, activation='gelu', input_shape=(X.shape[1],)),\n",
    "    tf.keras.layers.Dense(64, activation='gelu'),\n",
    "    tf.keras.layers.Dense(1, activation='sigmoid')\n",
    "])\n",
    "\n",
    "model.compile(optimizer='adam', loss='binary_crossentropy', metrics=['accuracy'])\n",
    "\n",
    "model.fit(X_train, Y_train, epochs=5, batch_size=32)\n",
    "\n",
    "Y_pred = model.predict(X_test)\n",
    "Y_pred = np.round(Y_pred)  # Corrected from 'Y_pred - np.round(Y_pred)'\n",
    "score = accuracy_score(Y_pred, Y_test)\n",
    "print(f\"Score: {score:.2f}\")\n"
   ]
  },
  {
   "cell_type": "markdown",
   "id": "5edfef95",
   "metadata": {
    "papermill": {
     "duration": 0.005949,
     "end_time": "2023-10-11T13:18:05.668389",
     "exception": false,
     "start_time": "2023-10-11T13:18:05.662440",
     "status": "completed"
    },
    "tags": []
   },
   "source": []
  }
 ],
 "metadata": {
  "kernelspec": {
   "display_name": "Python 3",
   "language": "python",
   "name": "python3"
  },
  "language_info": {
   "codemirror_mode": {
    "name": "ipython",
    "version": 3
   },
   "file_extension": ".py",
   "mimetype": "text/x-python",
   "name": "python",
   "nbconvert_exporter": "python",
   "pygments_lexer": "ipython3",
   "version": "3.10.12"
  },
  "papermill": {
   "default_parameters": {},
   "duration": 29.694338,
   "end_time": "2023-10-11T13:18:08.224208",
   "environment_variables": {},
   "exception": null,
   "input_path": "__notebook__.ipynb",
   "output_path": "__notebook__.ipynb",
   "parameters": {},
   "start_time": "2023-10-11T13:17:38.529870",
   "version": "2.4.0"
  }
 },
 "nbformat": 4,
 "nbformat_minor": 5
}
